{
    "cells": [
        {
            "cell_type": "code",
            "execution_count": 15,
            "source": [
                "import torch\n",
                "import networkx as nx\n",
                "from models import fourier_nn\n",
                "from utils import graph_generation\n",
                "import copy"
            ],
            "outputs": [],
            "metadata": {}
        },
        {
            "cell_type": "code",
            "execution_count": 16,
            "source": [
                "shape = [1, 3, 3, 1]\n",
                "model = fourier_nn.FourierNet(shape, scale=0.05)\n",
                "p = torch.nn.utils.parameters_to_vector(model.parameters())\n",
                "models = {i: copy.deepcopy(model) for i in range(3)}\n",
                "G = nx.wheel_graph(3)\n",
                "W = graph_generation.get_metropolis(G)"
            ],
            "outputs": [],
            "metadata": {}
        },
        {
            "cell_type": "code",
            "execution_count": 17,
            "source": [
                "def params_to_gradv(params):\n",
                "    vec = []\n",
                "    for p in params:\n",
                "        vec.append(p.grad.flatten())\n",
                "    \n",
                "    return torch.cat(vec)\n",
                "\n",
                "        "
            ],
            "outputs": [],
            "metadata": {}
        },
        {
            "cell_type": "code",
            "execution_count": 32,
            "source": [
                "x = torch.linspace(-1, 1, 100).reshape(-1, 1)\n",
                "y = torch.sin(x).reshape(-1, 1)\n",
                "\n",
                "xlists = {}\n",
                "ylists = {}\n",
                "glists = {}\n",
                "\n",
                "plists_base = list(models[0].parameters())\n",
                "\n",
                "num_params = len(plists_base)\n",
                "zero_plist = [torch.zeros_like(plists_base[i], requires_grad=False) for i in range(num_params)] \n",
                "\n",
                "for i in range(3):\n",
                "    neighs = list(G.neighbors(i))\n",
                "    neighs.append(i)\n",
                "    xlists[i] = list(models[i].parameters())\n",
                "    ylists[i] = copy.deepcopy(zero_plist)\n",
                "    glists[i] = copy.deepcopy(zero_plist)\n",
                "\n",
                "alph0 = 0.1\n",
                "\n",
                "for k in range(10):\n",
                "    alph = alph0 / (k + 1)\n",
                "    for i in range(3):\n",
                "        neighs = list(G.neighbors(i))\n",
                "        with torch.no_grad():\n",
                "            for p in range(num_params):\n",
                "                xlists[i][p].multiply_(W[i, i])\n",
                "                for j in neighs:\n",
                "                    xlists[i][p].add_(W[i, j] * xlists[j][p])\n",
                "                \n",
                "        yh = models[i].forward(x)\n",
                "        loss = torch.nn.MSELoss()(yh, y)\n",
                "        loss.backward()\n",
                "        print(\"Node {}: {}\".format(i, loss.item()))\n",
                "        \n",
                "        with torch.no_grad():\n",
                "            for p in range(num_params):\n",
                "                xlists[i][p].add_(alph * xlists[i][p].grad)\n",
                "                xlists[i][p].grad.zero_()\n",
                "        \n",
                "    "
            ],
            "outputs": [
                {
                    "output_type": "stream",
                    "name": "stdout",
                    "text": [
                        "Node 0: 0.528134688462565\n",
                        "Node 1: 0.5292426990216434\n",
                        "Node 2: 0.5292426990216434\n",
                        "Node 0: 0.5319328674138187\n",
                        "Node 1: 0.5320676861379974\n",
                        "Node 2: 0.5320676861379974\n",
                        "Node 0: 0.5319399675897495\n",
                        "Node 1: 0.5317290797551719\n",
                        "Node 2: 0.5317290797551719\n",
                        "Node 0: 0.5311687804564645\n",
                        "Node 1: 0.5309082288115815\n",
                        "Node 2: 0.5309082288115815\n",
                        "Node 0: 0.5303675746038345\n",
                        "Node 1: 0.5301436928157564\n",
                        "Node 2: 0.5301436928157564\n",
                        "Node 0: 0.529710815311864\n",
                        "Node 1: 0.5295371469763355\n",
                        "Node 2: 0.5295371469763355\n",
                        "Node 0: 0.5292100234045826\n",
                        "Node 1: 0.5290797076746281\n",
                        "Node 2: 0.5290797076746281\n",
                        "Node 0: 0.5288364921774252\n",
                        "Node 1: 0.5287392109835193\n",
                        "Node 2: 0.5287392109835193\n",
                        "Node 0: 0.5285579074782476\n",
                        "Node 1: 0.5284846598992329\n",
                        "Node 2: 0.5284846598992329\n",
                        "Node 0: 0.5283478060377503\n",
                        "Node 1: 0.5282917793301989\n",
                        "Node 2: 0.5282917793301989\n"
                    ]
                }
            ],
            "metadata": {}
        },
        {
            "cell_type": "code",
            "execution_count": 20,
            "source": [
                "opt = torch.optim.SGD(models[0].parameters(), lr=0.01)\n",
                "\n",
                "for k in range(3):\n",
                "    opt.zero_grad()\n",
                "    yh = models[0].forward(x)\n",
                "    loss = torch.nn.MSELoss()(yh, y)\n",
                "    loss.backward()\n",
                "    print(loss)\n",
                "    opt.step()"
            ],
            "outputs": [
                {
                    "output_type": "stream",
                    "name": "stdout",
                    "text": [
                        "tensor(0.4937, grad_fn=<MseLossBackward>)\n",
                        "tensor(0.4930, grad_fn=<MseLossBackward>)\n",
                        "tensor(0.4924, grad_fn=<MseLossBackward>)\n"
                    ]
                }
            ],
            "metadata": {}
        },
        {
            "cell_type": "code",
            "execution_count": 33,
            "source": [
                "G2 = nx.erdos_renyi_graph(5, 0.8)\n",
                "\n",
                "print(nx.is_connected(G2))\n",
                "\n",
                "A = torch.randn((10, 10)).multiply_(5.0)\n",
                "import math\n",
                "math.sqrt(2.0)"
            ],
            "outputs": [
                {
                    "output_type": "stream",
                    "name": "stdout",
                    "text": [
                        "True\n"
                    ]
                },
                {
                    "output_type": "error",
                    "ename": "TypeError",
                    "evalue": "sqrt(): argument 'input' (position 1) must be Tensor, not float",
                    "traceback": [
                        "\u001b[0;31m---------------------------------------------------------------------------\u001b[0m",
                        "\u001b[0;31mTypeError\u001b[0m                                 Traceback (most recent call last)",
                        "\u001b[0;32m<ipython-input-33-a1a5bfe3d7c4>\u001b[0m in \u001b[0;36m<module>\u001b[0;34m\u001b[0m\n\u001b[1;32m      4\u001b[0m \u001b[0;34m\u001b[0m\u001b[0m\n\u001b[1;32m      5\u001b[0m \u001b[0mA\u001b[0m \u001b[0;34m=\u001b[0m \u001b[0mtorch\u001b[0m\u001b[0;34m.\u001b[0m\u001b[0mrandn\u001b[0m\u001b[0;34m(\u001b[0m\u001b[0;34m(\u001b[0m\u001b[0;36m10\u001b[0m\u001b[0;34m,\u001b[0m \u001b[0;36m10\u001b[0m\u001b[0;34m)\u001b[0m\u001b[0;34m)\u001b[0m\u001b[0;34m.\u001b[0m\u001b[0mmultiply_\u001b[0m\u001b[0;34m(\u001b[0m\u001b[0;36m5.0\u001b[0m\u001b[0;34m)\u001b[0m\u001b[0;34m\u001b[0m\u001b[0;34m\u001b[0m\u001b[0m\n\u001b[0;32m----> 6\u001b[0;31m \u001b[0mtorch\u001b[0m\u001b[0;34m.\u001b[0m\u001b[0msqrt\u001b[0m\u001b[0;34m(\u001b[0m\u001b[0;36m2.0\u001b[0m\u001b[0;34m)\u001b[0m\u001b[0;34m\u001b[0m\u001b[0;34m\u001b[0m\u001b[0m\n\u001b[0m",
                        "\u001b[0;31mTypeError\u001b[0m: sqrt(): argument 'input' (position 1) must be Tensor, not float"
                    ]
                }
            ],
            "metadata": {}
        }
    ],
    "metadata": {
        "orig_nbformat": 4,
        "language_info": {
            "name": "python",
            "version": "3.8.10",
            "mimetype": "text/x-python",
            "codemirror_mode": {
                "name": "ipython",
                "version": 3
            },
            "pygments_lexer": "ipython3",
            "nbconvert_exporter": "python",
            "file_extension": ".py"
        },
        "kernelspec": {
            "name": "python3",
            "display_name": "Python 3.8.10 64-bit ('venv': venv)"
        },
        "interpreter": {
            "hash": "98daabec3d9ee92a94e437b98eced254849f05673a4aa740cd51b4c791e1d3a4"
        }
    },
    "nbformat": 4,
    "nbformat_minor": 2
}