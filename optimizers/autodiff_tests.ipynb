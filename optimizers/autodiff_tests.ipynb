{
    "cells": [
        {
            "cell_type": "code",
            "execution_count": 1,
            "source": [
                "import torch\n",
                "import networkx as nx\n",
                "from models import fourier_nn\n",
                "from utils import graph_generation\n",
                "import copy"
            ],
            "outputs": [],
            "metadata": {}
        },
        {
            "cell_type": "code",
            "execution_count": 2,
            "source": [
                "shape = [1, 3, 3, 1]\n",
                "model = fourier_nn.FourierNet(shape, scale=0.05)\n",
                "p = torch.nn.utils.parameters_to_vector(model.parameters())\n",
                "models = {i: copy.deepcopy(model) for i in range(3)}\n",
                "G = nx.wheel_graph(3)\n",
                "W = graph_generation.get_metropolis(G)"
            ],
            "outputs": [],
            "metadata": {}
        },
        {
            "cell_type": "code",
            "execution_count": 3,
            "source": [
                "def params_to_gradv(params):\n",
                "    vec = []\n",
                "    for p in params:\n",
                "        vec.append(p.grad.flatten())\n",
                "    \n",
                "    return torch.cat(vec)\n",
                "\n",
                "        "
            ],
            "outputs": [],
            "metadata": {}
        },
        {
            "cell_type": "code",
            "execution_count": 4,
            "source": [
                "x = torch.linspace(-1, 1, 100).reshape(-1, 1)\n",
                "y = torch.sin(x).reshape(-1, 1)\n",
                "\n",
                "xlists = {}\n",
                "ylists = {}\n",
                "glists = {}\n",
                "\n",
                "plists_base = list(models[0].parameters())\n",
                "\n",
                "num_params = len(plists_base)\n",
                "zero_plist = [torch.zeros_like(plists_base[i], requires_grad=False) for i in range(num_params)] \n",
                "\n",
                "for i in range(3):\n",
                "    neighs = list(G.neighbors(i))\n",
                "    neighs.append(i)\n",
                "    xlists[i] = list(models[i].parameters())\n",
                "    ylists[i] = copy.deepcopy(zero_plist)\n",
                "    glists[i] = copy.deepcopy(zero_plist)\n",
                "\n",
                "alph0 = 0.1\n",
                "\n",
                "for k in range(10):\n",
                "    alph = alph0 / (k + 1)\n",
                "    for i in range(3):\n",
                "        neighs = list(G.neighbors(i))\n",
                "        with torch.no_grad():\n",
                "            for p in range(num_params):\n",
                "                xlists[i][p].multiply_(W[i, i])\n",
                "                for j in neighs:\n",
                "                    xlists[i][p].add_(W[i, j] * xlists[j][p])\n",
                "                \n",
                "        yh = models[i].forward(x)\n",
                "        loss = torch.nn.MSELoss()(yh, y)\n",
                "        loss.backward()\n",
                "        print(\"Node {}: {}\".format(i, loss.item()))\n",
                "        \n",
                "        with torch.no_grad():\n",
                "            for p in range(num_params):\n",
                "                xlists[i][p].add_(-alph * xlists[i][p].grad)\n",
                "                xlists[i][p].grad.zero_()\n",
                "        \n",
                "    "
            ],
            "outputs": [
                {
                    "output_type": "stream",
                    "name": "stdout",
                    "text": [
                        "Node 0: 0.5885430838316501\n",
                        "Node 1: 0.585681712742351\n",
                        "Node 2: 0.5818978540607133\n",
                        "Node 0: 0.5769032858524885\n",
                        "Node 1: 0.5744962589315452\n",
                        "Node 2: 0.5722258960322492\n",
                        "Node 0: 0.5704343849350564\n",
                        "Node 1: 0.5687576422108621\n",
                        "Node 2: 0.5673173526065557\n",
                        "Node 0: 0.5661468395576545\n",
                        "Node 1: 0.5649529976117065\n",
                        "Node 2: 0.5639171518283979\n",
                        "Node 0: 0.5630137183586907\n",
                        "Node 1: 0.5621085240219825\n",
                        "Node 2: 0.5612981882405922\n",
                        "Node 0: 0.5605619547641535\n",
                        "Node 1: 0.5598364716103827\n",
                        "Node 2: 0.559170195132305\n",
                        "Node 0: 0.5585513702492523\n",
                        "Node 1: 0.5579461605389912\n",
                        "Node 2: 0.557380642062202\n",
                        "Node 0: 0.556848369647432\n",
                        "Node 1: 0.5563290955356567\n",
                        "Node 2: 0.555838216142638\n",
                        "Node 0: 0.5553719965649142\n",
                        "Node 1: 0.5549172836588754\n",
                        "Node 2: 0.5544839236271466\n",
                        "Node 0: 0.5540695863154581\n",
                        "Node 1: 0.5536652211228937\n",
                        "Node 2: 0.5532775207871665\n"
                    ]
                }
            ],
            "metadata": {}
        },
        {
            "cell_type": "code",
            "execution_count": 5,
            "source": [
                "opt = torch.optim.SGD(models[0].parameters(), lr=0.01)\n",
                "\n",
                "for k in range(3):\n",
                "    opt.zero_grad()\n",
                "    yh = models[0].forward(x)\n",
                "    loss = torch.nn.MSELoss()(yh, y)\n",
                "    loss.backward()\n",
                "    print(loss)\n",
                "    opt.step()"
            ],
            "outputs": [
                {
                    "output_type": "stream",
                    "name": "stdout",
                    "text": [
                        "tensor(0.5533, grad_fn=<MseLossBackward>)\n",
                        "tensor(0.5525, grad_fn=<MseLossBackward>)\n",
                        "tensor(0.5518, grad_fn=<MseLossBackward>)\n"
                    ]
                }
            ],
            "metadata": {}
        },
        {
            "cell_type": "code",
            "execution_count": 6,
            "source": [
                "G2 = nx.erdos_renyi_graph(5, 0.8)\n",
                "\n",
                "print(nx.is_connected(G2))\n",
                "\n",
                "A = torch.randn((10, 10)).multiply_(5.0)\n",
                "import math\n",
                "math.sqrt(2.0)"
            ],
            "outputs": [
                {
                    "output_type": "stream",
                    "name": "stdout",
                    "text": [
                        "True\n"
                    ]
                },
                {
                    "output_type": "execute_result",
                    "data": {
                        "text/plain": [
                            "1.4142135623730951"
                        ]
                    },
                    "metadata": {},
                    "execution_count": 6
                }
            ],
            "metadata": {}
        }
    ],
    "metadata": {
        "orig_nbformat": 4,
        "language_info": {
            "name": "python",
            "version": "3.8.10",
            "mimetype": "text/x-python",
            "codemirror_mode": {
                "name": "ipython",
                "version": 3
            },
            "pygments_lexer": "ipython3",
            "nbconvert_exporter": "python",
            "file_extension": ".py"
        },
        "kernelspec": {
            "name": "python3",
            "display_name": "Python 3.8.10 64-bit ('venv': venv)"
        },
        "interpreter": {
            "hash": "98daabec3d9ee92a94e437b98eced254849f05673a4aa740cd51b4c791e1d3a4"
        }
    },
    "nbformat": 4,
    "nbformat_minor": 2
}