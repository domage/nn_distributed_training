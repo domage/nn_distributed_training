{
    "cells": [
        {
            "cell_type": "code",
            "execution_count": 2,
            "source": [
                "import torch\n",
                "import networkx as nx\n",
                "from models import fourier_nn\n",
                "from utils import graph_generation\n",
                "import copy"
            ],
            "outputs": [],
            "metadata": {}
        },
        {
            "cell_type": "code",
            "execution_count": 3,
            "source": [
                "shape = [1, 3, 3, 1]\n",
                "model = fourier_nn.FourierNet(shape, scale=0.05)\n",
                "p = torch.nn.utils.parameters_to_vector(model.parameters())\n",
                "models = {i: copy.deepcopy(model) for i in range(3)}\n",
                "G = nx.wheel_graph(3)\n",
                "W = graph_generation.get_metropolis(G)"
            ],
            "outputs": [],
            "metadata": {}
        },
        {
            "cell_type": "code",
            "execution_count": 4,
            "source": [
                "def params_to_gradv(params):\n",
                "    vec = []\n",
                "    for p in params:\n",
                "        vec.append(p.grad.flatten())\n",
                "    \n",
                "    return torch.cat(vec)\n",
                "\n",
                "        "
            ],
            "outputs": [],
            "metadata": {}
        },
        {
            "cell_type": "code",
            "execution_count": 7,
            "source": [
                "x = torch.linspace(-1, 1, 100).reshape(-1, 1)\n",
                "y = torch.sin(x).reshape(-1, 1)\n",
                "\n",
                "xlists = {}\n",
                "glists = {}\n",
                "ylists = {}\n",
                "\n",
                "plists_base = list(models[0].parameters())\n",
                "\n",
                "num_params = len(plists_base)\n",
                "zero_plist = [torch.zeros_like(plists_base[i], requires_grad=False) for i in range(num_params)] \n",
                "\n",
                "for i in range(3):\n",
                "    neighs = list(G.neighbors(i))\n",
                "    neighs.append(i)\n",
                "    xlists[i] = list(models[i].parameters())\n",
                "    glists[i] = copy.deepcopy(zero_plist)\n",
                "    ylists[i] = copy.deepcopy(zero_plist)\n",
                "\n",
                "alph0 = 0.1\n",
                "\n",
                "# initialize y and glists\n",
                "for i in range(3):\n",
                "    yh = models[i].forward(x)\n",
                "    loss = torch.nn.MSELoss()(yh, y)\n",
                "    loss.backward()\n",
                "    \n",
                "    with torch.no_grad():\n",
                "        for p in range(num_params):\n",
                "            ylists[i][p] = xlists[i][p].grad.detach().clone()\n",
                "            glists[i][p] = xlists[i][p].grad.detach().clone()\n",
                "            xlists[i][p].grad.zero_()\n",
                "\n",
                "\n",
                "for k in range(10):\n",
                "    alph = alph0 / (k + 1)\n",
                "    for i in range(3):\n",
                "        print(\"Node {}: {}\".format(i, loss.item()))\n",
                "        \n",
                "        neighs = list(G.neighbors(i))\n",
                "        with torch.no_grad():\n",
                "            for p in range(num_params):\n",
                "                xlists[i][p].multiply_(W[i, i])\n",
                "                xlists[i][p].add_(-alph0 * ylists[i][p])\n",
                "                for j in neighs:\n",
                "                    xlists[i][p].add_(W[i, j] * xlists[j][p])\n",
                "\n",
                "        yh = models[i].forward(x)\n",
                "        loss = torch.nn.MSELoss()(yh, y)\n",
                "        loss.backward()\n",
                "\n",
                "        with torch.no_grad():\n",
                "            for p in range(num_params):\n",
                "                ylists[i][p].multiply_(W[i, i])\n",
                "                for j in neighs:\n",
                "                    ylists[i][p].add_(W[i, j] * ylists[j][p])\n",
                "                \n",
                "                ylists[i][p].add_(xlists[i][p].grad)\n",
                "                ylists[i][p].add_(-1.0 * glists[i][p])\n",
                "                \n",
                "                glists[i][p] = xlists[i][p].grad.detach().clone()\n",
                "                # xlists[i][p].add_(-alph * xlists[i][p].grad)\n",
                "                xlists[i][p].grad.zero_()\n",
                "        \n",
                "    "
            ],
            "outputs": [
                {
                    "output_type": "stream",
                    "name": "stdout",
                    "text": [
                        "Node 0: 0.6551424789768653\n",
                        "Node 1: 0.6551424789768653\n",
                        "Node 2: 0.6483537453043123\n",
                        "Node 0: 0.6393294941033273\n",
                        "Node 1: 0.6273542061154496\n",
                        "Node 2: 0.6232066877403077\n",
                        "Node 0: 0.6199204884786901\n",
                        "Node 1: 0.6185139004954654\n",
                        "Node 2: 0.6161325031473621\n",
                        "Node 0: 0.6143346797061234\n",
                        "Node 1: 0.6130290684270214\n",
                        "Node 2: 0.611481079445719\n",
                        "Node 0: 0.6102091461224641\n",
                        "Node 1: 0.6091114056615163\n",
                        "Node 2: 0.6079727273417317\n",
                        "Node 0: 0.6069697875714927\n",
                        "Node 1: 0.6060560341068988\n",
                        "Node 2: 0.6051486028585554\n",
                        "Node 0: 0.6043179136334939\n",
                        "Node 1: 0.6035443779335654\n",
                        "Node 2: 0.6027862189909508\n",
                        "Node 0: 0.6020776231016285\n",
                        "Node 1: 0.6014095617169142\n",
                        "Node 2: 0.6007570999502707\n",
                        "Node 0: 0.600139747086175\n",
                        "Node 1: 0.5995526999740806\n",
                        "Node 2: 0.5989796452809412\n",
                        "Node 0: 0.5984329754774256\n",
                        "Node 1: 0.5979097907640373\n",
                        "Node 2: 0.5973988019447506\n"
                    ]
                }
            ],
            "metadata": {}
        },
        {
            "cell_type": "code",
            "execution_count": null,
            "source": [
                "opt = torch.optim.SGD(models[0].parameters(), lr=0.01)\n",
                "\n",
                "for k in range(3):\n",
                "    opt.zero_grad()\n",
                "    yh = models[0].forward(x)\n",
                "    loss = torch.nn.MSELoss()(yh, y)\n",
                "    loss.backward()\n",
                "    print(loss)\n",
                "    opt.step()"
            ],
            "outputs": [
                {
                    "output_type": "stream",
                    "name": "stdout",
                    "text": [
                        "tensor(0.5533, grad_fn=<MseLossBackward>)\n",
                        "tensor(0.5525, grad_fn=<MseLossBackward>)\n",
                        "tensor(0.5518, grad_fn=<MseLossBackward>)\n"
                    ]
                }
            ],
            "metadata": {}
        },
        {
            "cell_type": "code",
            "execution_count": null,
            "source": [
                "G2 = nx.erdos_renyi_graph(5, 0.8)\n",
                "\n",
                "print(nx.is_connected(G2))\n",
                "\n",
                "A = torch.randn((10, 10)).multiply_(5.0)\n",
                "import math\n",
                "math.sqrt(2.0)"
            ],
            "outputs": [
                {
                    "output_type": "stream",
                    "name": "stdout",
                    "text": [
                        "True\n"
                    ]
                },
                {
                    "output_type": "execute_result",
                    "data": {
                        "text/plain": [
                            "1.4142135623730951"
                        ]
                    },
                    "metadata": {},
                    "execution_count": 6
                }
            ],
            "metadata": {}
        }
    ],
    "metadata": {
        "orig_nbformat": 4,
        "language_info": {
            "name": "python",
            "version": "3.8.10",
            "mimetype": "text/x-python",
            "codemirror_mode": {
                "name": "ipython",
                "version": 3
            },
            "pygments_lexer": "ipython3",
            "nbconvert_exporter": "python",
            "file_extension": ".py"
        },
        "kernelspec": {
            "name": "python3",
            "display_name": "Python 3.8.10 64-bit ('venv': venv)"
        },
        "interpreter": {
            "hash": "98daabec3d9ee92a94e437b98eced254849f05673a4aa740cd51b4c791e1d3a4"
        }
    },
    "nbformat": 4,
    "nbformat_minor": 2
}