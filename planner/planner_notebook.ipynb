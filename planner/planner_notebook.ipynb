{
 "cells": [
  {
   "cell_type": "code",
   "execution_count": 28,
   "metadata": {},
   "outputs": [
    {
     "name": "stdout",
     "output_type": "stream",
     "text": [
      "The autoreload extension is already loaded. To reload it, use:\n",
      "  %reload_ext autoreload\n"
     ]
    }
   ],
   "source": [
    "%load_ext autoreload\n",
    "%autoreload 2\n",
    "import PIL\n",
    "import numpy as np\n",
    "import matplotlib.pyplot as plt\n",
    "import matplotlib.cm as cm\n",
    "import planner"
   ]
  },
  {
   "cell_type": "code",
   "execution_count": 13,
   "metadata": {
    "scrolled": false
   },
   "outputs": [
    {
     "data": {
      "text/plain": [
       "<matplotlib.image.AxesImage at 0x7efc0e2e0350>"
      ]
     },
     "execution_count": 13,
     "metadata": {},
     "output_type": "execute_result"
    },
    {
     "data": {
      "image/png": "[encoded data removed]",
      "text/plain": [
       "<Figure size 432x288 with 1 Axes>"
      ]
     },
     "metadata": {
      "needs_background": "light"
     },
     "output_type": "display_data"
    }
   ],
   "source": [
    "img = PIL.Image.open(\"../floorplans/32_b.png\")\n",
    "plt.imshow(img)"
   ]
  },
  {
   "cell_type": "code",
   "execution_count": 14,
   "metadata": {},
   "outputs": [
    {
     "data": {
      "text/plain": [
       "(1608, 2167)"
      ]
     },
     "execution_count": 14,
     "metadata": {},
     "output_type": "execute_result"
    }
   ],
   "source": [
    "# An mxn array where element value of 1 is filled space, and element value of 0 is empty space\n",
    "imgarr = np.asarray(img).astype(float) / 255.0\n",
    "np.shape(imgarr)"
   ]
  },
  {
   "cell_type": "code",
   "execution_count": 15,
   "metadata": {
    "tags": []
   },
   "outputs": [],
   "source": [
    "# Create a path for one robot\n",
    "start = np.array([1400, 950])\n",
    "goal = np.array([1400, 1300])\n",
    "\n",
    "# Create an instance of the PathPlanner class:\n",
    "test_planner = planner.PathPlanner(imgarr)\n",
    "\n",
    "# Plan a path.\n",
    "path = test_planner.a_star(start, goal)"
   ]
  },
  {
   "cell_type": "code",
   "execution_count": 16,
   "metadata": {
    "scrolled": false
   },
   "outputs": [
    {
     "data": {
      "text/plain": [
       "[<matplotlib.lines.Line2D at 0x7efc0e2e3d10>]"
      ]
     },
     "execution_count": 16,
     "metadata": {},
     "output_type": "execute_result"
    },
    {
     "data": {
      "image/png": "[encoded data removed]",
      "text/plain": [
       "<Figure size 432x288 with 1 Axes>"
      ]
     },
     "metadata": {
      "needs_background": "light"
     },
     "output_type": "display_data"
    }
   ],
   "source": [
    "fig, ax = plt.subplots()\n",
    "ax.imshow(img)\n",
    "ax.plot(path[:, 1], path[:, 0], color='green')"
   ]
  },
  {
   "cell_type": "code",
   "execution_count": 141,
   "metadata": {},
   "outputs": [],
   "source": [
    "# Load in Previously Planned Paths #\n",
    "waypoint_path1 = np.load(\"waypoint_path1.npy\")\n",
    "waypoint_path2 = np.load(\"waypoint_path2.npy\")\n",
    "waypoint_path3 = np.load(\"waypoint_path3.npy\")\n",
    "waypoint_path4 = np.load(\"waypoint_path4.npy\")\n",
    "waypoint_path5 = np.load(\"waypoint_path5.npy\")\n",
    "waypoint_path6 = np.load(\"waypoint_path6.npy\")"
   ]
  },
  {
   "cell_type": "code",
   "execution_count": null,
   "metadata": {},
   "outputs": [],
   "source": [
    "# Or Solve for Multiple Waypoint Paths (takes ~10 mins total) #"
   ]
  },
  {
   "cell_type": "code",
   "execution_count": 134,
   "metadata": {},
   "outputs": [],
   "source": [
    "waypoints1 = np.array([[800, 1250], [1000, 1060], [1150, 1000], [1360, 1000], [1360, 1250], [1150, 1250], \n",
    "                       [1150, 1060], [1000, 1060], [1000, 680], [590, 680], [590, 1150], [800, 1150], [800, 1250]])\n",
    "waypoint_path1 = test_planner.waypoint_following(waypoints1)"
   ]
  },
  {
   "cell_type": "code",
   "execution_count": 88,
   "metadata": {},
   "outputs": [],
   "source": [
    "waypoints2 = np.array([[800, 1250], [900, 1250], [900, 1600], [1000, 1450], [1150, 1390], [1360, 1390], \n",
    "                       [1360, 1640], [1150, 1640],[1150, 1450], [1000, 1450], [800, 1250]])\n",
    "waypoint_path2 = test_planner.waypoint_following(waypoints2)"
   ]
  },
  {
   "cell_type": "code",
   "execution_count": 70,
   "metadata": {},
   "outputs": [],
   "source": [
    "waypoints3 = np.array([[800, 1250], [1000, 1060], [1000, 850], [1400, 850], [1000, 850], \n",
    "                       [1000, 700], [1300, 700], [1400, 600], [1500, 500], [1500, 300], [1050, 300], [1050, 400],\n",
    "                       [1370, 400], [1400, 600], [1300, 700], [1000, 850], [1000, 1060], [800, 1250]])\n",
    "waypoint_path3 = test_planner.waypoint_following(waypoints3)"
   ]
  },
  {
   "cell_type": "code",
   "execution_count": 86,
   "metadata": {},
   "outputs": [],
   "source": [
    "waypoints4 = np.array([[800, 1250], [800, 1600], [700, 1500], [650, 1400], [520, 1390], [520, 1820], [1360, 1820],\n",
    "                       [1360, 2070], [950, 2070], [950, 1820], [810, 1820], [810, 2070], [670, 2070], [670, 1820],\n",
    "                       [500, 1820], [500, 1250], [800, 1250]])\n",
    "waypoint_path4 = test_planner.waypoint_following(waypoints4)"
   ]
  },
  {
   "cell_type": "code",
   "execution_count": 116,
   "metadata": {},
   "outputs": [],
   "source": [
    "waypoints5 = np.array([[800, 1250], [800, 1150], [400, 1150], [400, 1250], [120, 1250], [120, 850], [200, 850],\n",
    "                       [200, 200], [200, 330], [500, 330], [500, 220], [300, 220], [650, 220], [650, 330],\n",
    "                       [830, 330], [830, 60], [830, 950], [700, 950], [700, 1250], [800, 1250]])\n",
    "waypoint_path5 = test_planner.waypoint_following(waypoints5)"
   ]
  },
  {
   "cell_type": "code",
   "execution_count": 136,
   "metadata": {},
   "outputs": [],
   "source": [
    "waypoints6 = np.array([[800, 1250], [500, 1250], [500, 650], [815, 650], [815, 320], [650, 320], [590, 490],\n",
    "                       [400, 320], [400, 700], [250, 700], [250, 950], [710, 950], [710, 1260], [800, 1250]])\n",
    "waypoint_path6 = test_planner.waypoint_following(waypoints6)"
   ]
  },
  {
   "cell_type": "code",
   "execution_count": 142,
   "metadata": {},
   "outputs": [
    {
     "data": {
      "text/plain": [
       "[<matplotlib.lines.Line2D at 0x7efc0e782690>]"
      ]
     },
     "execution_count": 142,
     "metadata": {},
     "output_type": "execute_result"
    },
    {
     "data": {
      "image/png": "[encoded data removed]",
      "text/plain": [
       "<Figure size 432x288 with 1 Axes>"
      ]
     },
     "metadata": {
      "needs_background": "light"
     },
     "output_type": "display_data"
    }
   ],
   "source": [
    "fig2, ax2 = plt.subplots()\n",
    "ax2.imshow(img)\n",
    "ax2.plot(waypoint_path1[:, 1], waypoint_path1[:, 0], color='green')\n",
    "ax2.plot(waypoint_path2[:, 1], waypoint_path2[:, 0], color='red')\n",
    "ax2.plot(waypoint_path3[:, 1], waypoint_path3[:, 0], color='blue')\n",
    "ax2.plot(waypoint_path4[:, 1], waypoint_path4[:, 0], color='black')\n",
    "ax2.plot(waypoint_path5[:, 1], waypoint_path5[:, 0], color='orange')\n",
    "ax2.plot(waypoint_path6[:, 1], waypoint_path6[:, 0], color='pink')"
   ]
  },
  {
   "cell_type": "code",
   "execution_count": 139,
   "metadata": {},
   "outputs": [],
   "source": [
    "# Save Paths #\n",
    "# np.save(\"waypoint_path1\", waypoint_path1)\n",
    "# np.save(\"waypoint_path2\", waypoint_path2)\n",
    "# np.save(\"waypoint_path3\", waypoint_path3)\n",
    "# np.save(\"waypoint_path4\", waypoint_path4)\n",
    "# np.save(\"waypoint_path5\", waypoint_path5)\n",
    "# np.save(\"waypoint_path6\", waypoint_path6)"
   ]
  },
  {
   "cell_type": "code",
   "execution_count": 22,
   "metadata": {},
   "outputs": [],
   "source": [
    " # Plan Random Walk Path #"
   ]
  },
  {
   "cell_type": "code",
   "execution_count": 43,
   "metadata": {},
   "outputs": [],
   "source": [
    "start = np.array([1000, 1060])\n",
    "length = 10000\n",
    "rand_path = test_planner.random_walk(start, length)"
   ]
  },
  {
   "cell_type": "code",
   "execution_count": 44,
   "metadata": {},
   "outputs": [
    {
     "data": {
      "text/plain": [
       "[<matplotlib.lines.Line2D at 0x7efc1089ead0>]"
      ]
     },
     "execution_count": 44,
     "metadata": {},
     "output_type": "execute_result"
    },
    {
     "data": {
      "image/png": "[encoded data removed]",
      "text/plain": [
       "<Figure size 432x288 with 1 Axes>"
      ]
     },
     "metadata": {
      "needs_background": "light"
     },
     "output_type": "display_data"
    }
   ],
   "source": [
    "fig_rand, ax_rand = plt.subplots()\n",
    "ax_rand.imshow(img)\n",
    "ax_rand.plot(rand_path[:, 1], rand_path[:, 0], color='green')"
   ]
  }
 ],
 "metadata": {
  "kernelspec": {
   "display_name": "Python 3",
   "language": "python",
   "name": "python3"
  },
  "language_info": {
   "codemirror_mode": {
    "name": "ipython",
    "version": 3
   },
   "file_extension": ".py",
   "mimetype": "text/x-python",
   "name": "python",
   "nbconvert_exporter": "python",
   "pygments_lexer": "ipython3",
   "version": "3.7.6"
  }
 },
 "nbformat": 4,
 "nbformat_minor": 4
}
