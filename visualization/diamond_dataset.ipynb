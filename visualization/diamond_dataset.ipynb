{
    "cells": [
        {
            "cell_type": "code",
            "execution_count": 1,
            "source": [
                "import matplotlib.pyplot as plt\n",
                "import numpy as np\n",
                "import os"
            ],
            "outputs": [],
            "metadata": {}
        },
        {
            "cell_type": "code",
            "execution_count": 2,
            "source": [
                "raw_dir = \"../data/diamond/raw/diamond_run\"\n",
                "poses = np.genfromtxt(os.path.join(raw_dir, \"poses.gt\"), delimiter=\" \", skip_header=True)\n",
                "# poses: t, x, y, z, quat.w, quat.x, quat.y, quat.z"
            ],
            "outputs": [],
            "metadata": {}
        },
        {
            "cell_type": "code",
            "execution_count": 4,
            "source": [],
            "outputs": [
                {
                    "output_type": "execute_result",
                    "data": {
                        "text/plain": [
                            "(569, 8)"
                        ]
                    },
                    "metadata": {},
                    "execution_count": 4
                }
            ],
            "metadata": {}
        }
    ],
    "metadata": {
        "orig_nbformat": 4,
        "language_info": {
            "name": "python",
            "version": "3.8.10",
            "mimetype": "text/x-python",
            "codemirror_mode": {
                "name": "ipython",
                "version": 3
            },
            "pygments_lexer": "ipython3",
            "nbconvert_exporter": "python",
            "file_extension": ".py"
        },
        "kernelspec": {
            "name": "python3",
            "display_name": "Python 3.8.10 64-bit ('venv': venv)"
        },
        "interpreter": {
            "hash": "98daabec3d9ee92a94e437b98eced254849f05673a4aa740cd51b4c791e1d3a4"
        }
    },
    "nbformat": 4,
    "nbformat_minor": 2
}