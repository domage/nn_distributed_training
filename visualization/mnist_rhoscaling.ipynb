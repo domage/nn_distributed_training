{
 "cells": [
  {
   "cell_type": "code",
   "execution_count": 5,
   "metadata": {},
   "outputs": [],
   "source": [
    "import matplotlib.pyplot as plt\n",
    "import numpy as np\n",
    "import torch\n",
    "import os"
   ]
  },
  {
   "cell_type": "code",
   "execution_count": 6,
   "metadata": {},
   "outputs": [],
   "source": [
    "vanilla_dir = \"../experiments/outputs/2021-07-21_07-10_class_vanilla\"\n",
    "scaled_dir = \"../experiments/outputs/2021-07-21_07-36_class_scaled_rho\"\n",
    "vanilla_metrics = torch.load(os.path.join(vanilla_dir, \"metrics.pt\")) \n",
    "scaled_metrics = torch.load(os.path.join(scaled_dir, \"metrics.pt\"))"
   ]
  },
  {
   "cell_type": "code",
   "execution_count": 10,
   "metadata": {},
   "outputs": [
    {
     "data": {
      "text/plain": [
       "tensor([[0.0000, 1.9675, 1.8951, 1.3396, 2.1928],\n",
       "        [1.9675, 0.0000, 3.1184, 2.7458, 1.7264],\n",
       "        [1.8951, 3.1184, 0.0000, 2.9070, 2.8270],\n",
       "        [1.3396, 2.7458, 2.9070, 0.0000, 2.6087],\n",
       "        [2.1928, 1.7264, 2.8270, 2.6087, 0.0000]])"
      ]
     },
     "execution_count": 10,
     "metadata": {},
     "output_type": "execute_result"
    }
   ],
   "source": [
    "A = torch.randn((5, 3))\n",
    "D = torch.cdist(A, A)\n"
   ]
  }
 ],
 "metadata": {
  "interpreter": {
   "hash": "98daabec3d9ee92a94e437b98eced254849f05673a4aa740cd51b4c791e1d3a4"
  },
  "kernelspec": {
   "display_name": "Python 3.8.10 64-bit ('venv': venv)",
   "name": "python3"
  },
  "language_info": {
   "codemirror_mode": {
    "name": "ipython",
    "version": 3
   },
   "file_extension": ".py",
   "mimetype": "text/x-python",
   "name": "python",
   "nbconvert_exporter": "python",
   "pygments_lexer": "ipython3",
   "version": "3.8.10"
  },
  "orig_nbformat": 4
 },
 "nbformat": 4,
 "nbformat_minor": 2
}