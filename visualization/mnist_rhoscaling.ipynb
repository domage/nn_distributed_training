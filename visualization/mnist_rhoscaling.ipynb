{
 "cells": [
  {
   "cell_type": "code",
   "execution_count": 3,
   "metadata": {},
   "outputs": [],
   "source": [
    "import matplotlib.pyplot as plt\n",
    "import numpy as np\n",
    "import torch\n",
    "import os"
   ]
  },
  {
   "cell_type": "code",
   "execution_count": 4,
   "metadata": {},
   "outputs": [],
   "source": [
    "vanilla_dir = \"../experiments/outputs/2021-07-21_07-10_class_vanilla\"\n",
    "scaled_dir = \"../experiments/outputs/2021-07-21_07-36_class_scaled_rho\"\n",
    "vanilla_metrics = torch.load(os.path.join(vanilla_dir, \"metrics.pt\")) \n",
    "scaled_metrics = torch.load(os.path.join(scaled_dir, \"metrics.pt\"))"
   ]
  }
 ],
 "metadata": {
  "interpreter": {
   "hash": "98daabec3d9ee92a94e437b98eced254849f05673a4aa740cd51b4c791e1d3a4"
  },
  "kernelspec": {
   "display_name": "Python 3.8.10 64-bit ('venv': venv)",
   "name": "python3"
  },
  "language_info": {
   "codemirror_mode": {
    "name": "ipython",
    "version": 3
   },
   "file_extension": ".py",
   "mimetype": "text/x-python",
   "name": "python",
   "nbconvert_exporter": "python",
   "pygments_lexer": "ipython3",
   "version": "3.8.10"
  },
  "orig_nbformat": 4
 },
 "nbformat": 4,
 "nbformat_minor": 2
}