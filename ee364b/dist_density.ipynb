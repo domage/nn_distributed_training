{
 "metadata": {
  "language_info": {
   "codemirror_mode": {
    "name": "ipython",
    "version": 3
   },
   "file_extension": ".py",
   "mimetype": "text/x-python",
   "name": "python",
   "nbconvert_exporter": "python",
   "pygments_lexer": "ipython3",
   "version": "3.8.5"
  },
  "orig_nbformat": 2,
  "kernelspec": {
   "name": "python385jvsc74a57bd098daabec3d9ee92a94e437b98eced254849f05673a4aa740cd51b4c791e1d3a4",
   "display_name": "Python 3.8.5 64-bit ('venv')"
  }
 },
 "nbformat": 4,
 "nbformat_minor": 2,
 "cells": [
  {
   "cell_type": "code",
   "execution_count": 2,
   "metadata": {},
   "outputs": [],
   "source": [
    "%load_ext autoreload\n",
    "%autoreload 2\n",
    "import torch\n",
    "import networkx as nx\n",
    "import matplotlib.pyplot as plt\n",
    "import copy\n",
    "\n",
    "import sys\n",
    "sys.path.insert(0, \"../models/\")\n",
    "sys.path.insert(0, \"../lidar/\")\n",
    "from relu_nn import FFReLUNet\n",
    "from lidar import BatchLidarDataset"
   ]
  },
  {
   "cell_type": "code",
   "execution_count": 6,
   "metadata": {},
   "outputs": [
    {
     "output_type": "execute_result",
     "data": {
      "text/plain": [
       "True"
      ]
     },
     "metadata": {},
     "execution_count": 6
    }
   ],
   "source": [
    "# Make the graph\n",
    "N = 5\n",
    "G = nx.erdos_renyi_graph(N, 0.6)\n",
    "nx.is_connected(G)"
   ]
  },
  {
   "cell_type": "code",
   "execution_count": 14,
   "metadata": {},
   "outputs": [
    {
     "output_type": "execute_result",
     "data": {
      "text/plain": [
       "torch.Size([1969])"
      ]
     },
     "metadata": {},
     "execution_count": 14
    }
   ],
   "source": [
    "# Setup models\n",
    "shape = [2, 32, 32, 16, 16, 1]\n",
    "base_model = FFReLUNet(shape)\n",
    "n = torch.nn.utils.parameters_to_vector(base_model.parameters()).shape[0]\n",
    "\n",
    "models = {i : copy.deepcopy(base_model) for i in range(N)}\n",
    "t1 = torch.nn.utils.parameters_to_vector(models[0].parameters())"
   ]
  },
  {
   "cell_type": "code",
   "execution_count": 15,
   "metadata": {},
   "outputs": [],
   "source": [
    "def primal_update(data, model, base_loss, dual, thj, rho, lr, max_its):\n",
    "    opt = torch.optim.Adam(model.parameters(), lr=lr)\n",
    "    for k in range(max_its):\n",
    "        opt.zero_grad()\n",
    "        \n",
    "        yh = model.forward(data[\"x\"])\n",
    "        \n",
    "        th = torch.nn.utils.parameters_to_vector(model.parameters())\n",
    "        reg = torch.sum(torch.square(torch.cdist(th.reshape(1, -1), thj)))\n",
    "        loss = base_loss(yh, data[\"y\"]) + torch.dot(th, dual) + rho * reg\n",
    "\n",
    "        loss.backward()\n",
    "        opt.step()\n",
    "\n",
    "def joint_loss(base_loss, testx, testy, models, N):\n",
    "    with torch.no_grad():\n",
    "        loss = 0.0\n",
    "        for i in range(N):\n",
    "            pred = models[i].forward(testx)\n",
    "            loss += base_loss(pred, testy)\n",
    "        return loss"
   ]
  },
  {
   "cell_type": "code",
   "execution_count": 20,
   "metadata": {},
   "outputs": [],
   "source": [
    "# Setup data\n",
    "num_beams = 20\n",
    "beam_samps = 20\n",
    "scan_dist = 0.2\n",
    "num_scans = 60\n",
    "img_dir = \"../data/32_b.png\"\n",
    "bs = 1000 # number of forward passes per gradient compute\n",
    "\n",
    "training_dataloaders = {}\n",
    "for i in range(N):\n",
    "    ds = BatchLidarDataset(img_dir, num_beams, scan_dist, beam_samps, num_scans)\n",
    "    training_dataloaders[i] = torch.utils.data.DataLoader(ds, batch_size=bs)"
   ]
  },
  {
   "cell_type": "code",
   "execution_count": null,
   "metadata": {},
   "outputs": [],
   "source": [
    "max_its_cadmm = 400\n",
    "max_its_adam = 15\n",
    "rho = 0.5\n",
    "lr = 0.005\n",
    "\n"
   ]
  }
 ]
}