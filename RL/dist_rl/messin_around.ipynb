{
 "cells": [
  {
   "cell_type": "code",
   "execution_count": 98,
   "source": [
    "%load_ext autoreload\n",
    "%autoreload 2\n",
    "\n",
    "import torch\n",
    "import model\n",
    "import cadmmPPO\n",
    "from dist_ppo import DistPPOProblem\n",
    "import gym\n",
    "import sys\n",
    "import networkx as nx\n",
    "\n",
    "sys.path.insert(0, \"../\")\n",
    "from pettingzoo.mpe import simple_tag_v2"
   ],
   "outputs": [
    {
     "output_type": "stream",
     "name": "stdout",
     "text": [
      "The autoreload extension is already loaded. To reload it, use:\n",
      "  %reload_ext autoreload\n"
     ]
    }
   ],
   "metadata": {}
  },
  {
   "cell_type": "code",
   "execution_count": 99,
   "source": [
    "steps = 200\n",
    "env = simple_tag_v2.env(num_good=1, num_adversaries=3, num_obstacles=8, max_cycles=steps, continuous_actions=True)\n",
    "hyperparameters = {\n",
    "  'timesteps_per_batch': 400, \n",
    "  'max_timesteps_per_episode': steps, \n",
    "  'gamma': 0.99,\n",
    "  'n_updates_per_iteration': 10, # epochs\n",
    "  'lr': 3e-4, \n",
    "  'clip': 0.2,\n",
    "  'render': False,\n",
    "  'render_every_i': 1\n",
    "}\n",
    "env.reset()\n",
    "obs_dim = env.observation_spaces[\"adversary_0\"].shape[0]\n",
    "act_dim = env.action_spaces[\"adversary_0\"].shape[0]\n",
    "\n",
    "base_actor = model.FFReLUNet([obs_dim, 64, 64, act_dim])\n",
    "base_critic = model.FFReLUNet([obs_dim, 64, 64, 1])\n",
    "graph = nx.wheel_graph(3) \n",
    "dppo = DistPPOProblem(base_actor, base_critic, graph, env, **hyperparameters)\n",
    "\n",
    "opt_confs = {\n",
    "  \"rho_init\": 1.0,\n",
    "  \"rho_scaling\": 1.0,\n",
    "  \"primal_lr_start\": 0.001,\n",
    "  \"primal_lr_finish\": 0.001,\n",
    "  \"lr_decay_type\": \"constant\",\n",
    "  \"persistant_primal_opt\": False,\n",
    "  \"primal_iterations\": 10,\n",
    "  \"outer_iterations\": 10,\n",
    "}\n",
    "\n",
    "device = torch.device(\"cpu\")\n",
    "\n",
    "dopt = cadmmPPO.CADMMPPO(dppo, device, opt_confs)"
   ],
   "outputs": [],
   "metadata": {}
  },
  {
   "cell_type": "code",
   "execution_count": 100,
   "source": [
    "dopt.train()"
   ],
   "outputs": [],
   "metadata": {}
  }
 ],
 "metadata": {
  "orig_nbformat": 4,
  "language_info": {
   "name": "python",
   "version": "3.8.10",
   "mimetype": "text/x-python",
   "codemirror_mode": {
    "name": "ipython",
    "version": 3
   },
   "pygments_lexer": "ipython3",
   "nbconvert_exporter": "python",
   "file_extension": ".py"
  },
  "kernelspec": {
   "name": "python3",
   "display_name": "Python 3.8.10 64-bit ('venv': venv)"
  },
  "interpreter": {
   "hash": "98daabec3d9ee92a94e437b98eced254849f05673a4aa740cd51b4c791e1d3a4"
  }
 },
 "nbformat": 4,
 "nbformat_minor": 2
}